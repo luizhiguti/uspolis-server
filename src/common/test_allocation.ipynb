{
 "cells": [
  {
   "cell_type": "code",
   "execution_count": 6,
   "metadata": {},
   "outputs": [],
   "source": [
    "from allocation import allocate_classrooms\n",
    "import datetime as dt\n",
    "import matplotlib.pyplot as plt"
   ]
  },
  {
   "cell_type": "code",
   "execution_count": 7,
   "metadata": {},
   "outputs": [
    {
     "name": "stdout",
     "output_type": "stream",
     "text": [
      "Status: Optimal\n",
      "alloc__D140_PCS345 = 0.0\n",
      "alloc__D140_PCS346 = 1.0\n",
      "alloc__D140_PCS347 = 1.0\n",
      "alloc__D140_PCS349 = 0.0\n",
      "alloc__D141_PCS345 = 0.0\n",
      "alloc__D141_PCS346 = 0.0\n",
      "alloc__D141_PCS347 = 0.0\n",
      "alloc__D141_PCS349 = 0.0\n",
      "alloc__D143_PCS345 = 1.0\n",
      "alloc__D143_PCS346 = 0.0\n",
      "alloc__D143_PCS347 = 0.0\n",
      "alloc__D143_PCS349 = 1.0\n",
      "alloc__D144_PCS345 = 0.0\n",
      "alloc__D144_PCS346 = 0.0\n",
      "alloc__D144_PCS347 = 0.0\n",
      "alloc__D144_PCS349 = 0.0\n",
      "Total Cost of Allocation =  0.564516129032258\n"
     ]
    },
    {
     "name": "stderr",
     "output_type": "stream",
     "text": [
      "c:\\Users\\Kondo Marcel\\Anaconda3\\lib\\site-packages\\pulp\\pulp.py:1352: UserWarning: Spaces are not permitted in the name. Converted to '_'\n",
      "  warnings.warn(\"Spaces are not permitted in the name. Converted to '_'\")\n"
     ]
    }
   ],
   "source": [
    "class_list = [\n",
    "    {\n",
    "        'class_id' : 'PCS345',\n",
    "        'week_days' : 'quarta',\n",
    "        'start_time' : dt.time(hour=8, minute=0),\n",
    "        'end_time' : dt.time(hour=12, minute=0),\n",
    "        'subscribers' : 30,\n",
    "        'preferences' : {\n",
    "            'building' : 'elétrica',\n",
    "            'air_conditioning' : False,\n",
    "            'projector' : False,\n",
    "            'accessibility' : False\n",
    "        }\n",
    "    },\n",
    "    {\n",
    "        'class_id' : 'PCS347',\n",
    "        'week_days' : 'quinta',\n",
    "        'start_time' : dt.time(hour=8, minute=0),\n",
    "        'end_time' : dt.time(hour=12, minute=0),\n",
    "        'subscribers' : 30,\n",
    "        'preferences' : {\n",
    "            'building' : 'elétrica',\n",
    "            'air_conditioning' : False,\n",
    "            'projector' : True,\n",
    "            'accessibility' : False\n",
    "        }\n",
    "    },\n",
    "    {\n",
    "        'class_id' : 'PCS346',\n",
    "        'week_days' : 'quarta',\n",
    "        'start_time' : dt.time(hour=14, minute=0),\n",
    "        'end_time' : dt.time(hour=16, minute=0),\n",
    "        'subscribers' : 30,\n",
    "        'preferences' : {\n",
    "            'building' : 'elétrica',\n",
    "            'air_conditioning' : False,\n",
    "            'projector' : False,\n",
    "            'accessibility' : False\n",
    "        }\n",
    "    },\n",
    "    {\n",
    "        'class_id' : 'PCS349',\n",
    "        'week_days' : 'quarta',\n",
    "        'start_time' : dt.time(hour=8, minute=0),\n",
    "        'end_time' : dt.time(hour=12, minute=0),\n",
    "        'subscribers' : 30,\n",
    "        'preferences' : {\n",
    "            'building' : 'elétrica',\n",
    "            'air_conditioning' : False,\n",
    "            'projector' : False,\n",
    "            'accessibility' : False\n",
    "        }\n",
    "    }\n",
    "]\n",
    "\n",
    "classroom_list = [\n",
    "    {\n",
    "        'classroom_name' : 'D140',\n",
    "        'building' : 'elétrica',\n",
    "        'capacity' : 40,\n",
    "        'air_conditioning' : True,\n",
    "        'projector' : True,\n",
    "        'accessibility' : False,\n",
    "    },\n",
    "    {\n",
    "        'classroom_name' : 'D141',\n",
    "        'building' : 'elétrica',\n",
    "        'capacity' : 20,\n",
    "        'air_conditioning' : True,\n",
    "        'projector' : True,\n",
    "        'accessibility' : False,\n",
    "    },\n",
    "    {\n",
    "        'classroom_name' : 'D143',\n",
    "        'building' : 'elétrica',\n",
    "        'capacity' : 31,\n",
    "        'air_conditioning' : False,\n",
    "        'projector' : False,\n",
    "        'accessibility' : False,\n",
    "    },\n",
    "    {\n",
    "        'classroom_name' : 'D144',\n",
    "        'building' : 'elétrica',\n",
    "        'capacity' : 100,\n",
    "        'air_conditioning' : True,\n",
    "        'projector' : True,\n",
    "        'accessibility' : False,\n",
    "    },\n",
    "\n",
    "]\n",
    "\n",
    "sol = allocate_classrooms(classroom_list, class_list)"
   ]
  },
  {
   "cell_type": "code",
   "execution_count": null,
   "metadata": {},
   "outputs": [],
   "source": []
  }
 ],
 "metadata": {
  "kernelspec": {
   "display_name": "Python 3.9.12 ('base')",
   "language": "python",
   "name": "python3"
  },
  "language_info": {
   "codemirror_mode": {
    "name": "ipython",
    "version": 3
   },
   "file_extension": ".py",
   "mimetype": "text/x-python",
   "name": "python",
   "nbconvert_exporter": "python",
   "pygments_lexer": "ipython3",
   "version": "3.9.12"
  },
  "orig_nbformat": 4,
  "vscode": {
   "interpreter": {
    "hash": "d07dc887ff9338112bb8812a675ecd19a6cd1fd8a618abfaefc9bb8954c99a72"
   }
  }
 },
 "nbformat": 4,
 "nbformat_minor": 2
}
