{
 "cells": [
  {
   "cell_type": "code",
   "execution_count": 1,
   "metadata": {},
   "outputs": [],
   "source": [
    "from allocation import allocate_classrooms\n",
    "from crawler import get_jupiter_class_infos\n",
    "import datetime as dt\n",
    "import matplotlib.pyplot as plt\n",
    "import pandas as pd"
   ]
  },
  {
   "cell_type": "code",
   "execution_count": 2,
   "metadata": {},
   "outputs": [],
   "source": [
    "def process_class_data(class_obj):\n",
    "\n",
    "    out_dict = {}\n",
    "\n",
    "    out_dict['class_code'] = class_obj['cod_turma']\n",
    "    out_dict['subject_code'] = class_obj['nome_disciplina']\n",
    "    out_dict['subject_name'] = class_obj['cod_disciplina']\n",
    "    out_dict['professors'] = class_obj['prof']\n",
    "    out_dict['start_period'] = class_obj['inicio']\n",
    "    out_dict['end_period'] = class_obj['fim']\n",
    "    out_dict['start_time'] = class_obj['hora_inicio']\n",
    "    out_dict['end_time'] = class_obj['hora_fim']\n",
    "    out_dict['week_days'] = class_obj['dia_semana']\n",
    "    out_dict['class_type'] = class_obj['tipo']\n",
    "    out_dict['vacancies'] = class_obj['vagas'][0]\n",
    "    out_dict['subscribers'] = class_obj['inscritos'][0]\n",
    "    out_dict['pendings'] = class_obj['pendentes'][0]\n",
    "    out_dict['preferences'] = {\n",
    "        'building' : 'Biênio',\n",
    "        'min_capacity' : False,\n",
    "        'air_conditioning' : False,\n",
    "        'projector' : False,\n",
    "        'accessibility' : False,\n",
    "    }\n",
    "    return out_dict\n",
    "\n",
    "def break_class_into_events(class_obj):\n",
    "    event_list = []\n",
    "    \n",
    "    if isinstance(class_obj['start_time'], list):\n",
    "        for i in range(len(class_obj['start_time'])):\n",
    "            event = class_obj.copy()\n",
    "            event['start_time'] = dt.datetime.strptime(class_obj['start_time'][i], '%H:%M').time()\n",
    "            event['end_time'] = dt.datetime.strptime(class_obj['end_time'][i], '%H:%M').time()\n",
    "            event['week_days'] = class_obj['week_days'][i]\n",
    "\n",
    "            event['event_id'] = str(event['subject_name']) + '_' + str(event['class_code']) + '_' + str(i)\n",
    "\n",
    "\n",
    "            event_list.append(event)\n",
    "\n",
    "    return event_list\n",
    "\n",
    "# dt.datetime.strptime(process_class_data(get_jupiter_class_infos('MAT2454')[0])['start_time'][0], '%H:%M')\n",
    "# get_jupiter_class_infos('4323102')"
   ]
  },
  {
   "cell_type": "code",
   "execution_count": 3,
   "metadata": {},
   "outputs": [
    {
     "name": "stdout",
     "output_type": "stream",
     "text": [
      "4323102_2022201_0\n",
      "4323102_2022202_0\n",
      "4323102_2022203_0\n",
      "4323102_2022204_0\n",
      "4323102_2022205_0\n",
      "4323102_2022206_0\n",
      "4323102_2022207_0\n",
      "4323102_2022208_0\n",
      "4323102_2022209_0\n",
      "4323102_2022210_0\n",
      "4323102_2022211_0\n",
      "4323102_2022212_0\n"
     ]
    }
   ],
   "source": [
    "\n",
    "aux = []\n",
    "classes = get_jupiter_class_infos(4323102)\n",
    "for c in classes:\n",
    "    aux += break_class_into_events(process_class_data(c))\n",
    "\n",
    "for a in aux:\n",
    "    print(a['event_id'])"
   ]
  },
  {
   "cell_type": "code",
   "execution_count": 4,
   "metadata": {},
   "outputs": [
    {
     "name": "stderr",
     "output_type": "stream",
     "text": [
      "C:\\Users\\Kondo Marcel\\Anaconda3\\lib\\site-packages\\pulp\\pulp.py:1352: UserWarning: Spaces are not permitted in the name. Converted to '_'\n",
      "  warnings.warn(\"Spaces are not permitted in the name. Converted to '_'\")\n"
     ]
    },
    {
     "ename": "PulpError",
     "evalue": "overlapping constraint names: Classroom_A1_06_can_contain_class4323102_2022201_0",
     "output_type": "error",
     "traceback": [
      "\u001b[1;31m---------------------------------------------------------------------------\u001b[0m",
      "\u001b[1;31mPulpError\u001b[0m                                 Traceback (most recent call last)",
      "\u001b[1;32mc:\\Users\\Kondo Marcel\\Documents\\POLI\\TCC\\uspolis-server\\src\\common\\test_allocation_real_Data.ipynb Cell 4\u001b[0m in \u001b[0;36m<cell line: 20>\u001b[1;34m()\u001b[0m\n\u001b[0;32m     <a href='vscode-notebook-cell:/c%3A/Users/Kondo%20Marcel/Documents/POLI/TCC/uspolis-server/src/common/test_allocation_real_Data.ipynb#W1sZmlsZQ%3D%3D?line=15'>16</a>\u001b[0m         event_list \u001b[39m+\u001b[39m\u001b[39m=\u001b[39m break_class_into_events(process_class_data(c))\n\u001b[0;32m     <a href='vscode-notebook-cell:/c%3A/Users/Kondo%20Marcel/Documents/POLI/TCC/uspolis-server/src/common/test_allocation_real_Data.ipynb#W1sZmlsZQ%3D%3D?line=17'>18</a>\u001b[0m event_list\n\u001b[1;32m---> <a href='vscode-notebook-cell:/c%3A/Users/Kondo%20Marcel/Documents/POLI/TCC/uspolis-server/src/common/test_allocation_real_Data.ipynb#W1sZmlsZQ%3D%3D?line=19'>20</a>\u001b[0m sol \u001b[39m=\u001b[39m allocate_classrooms(classroom_list, event_list)\n",
      "File \u001b[1;32mc:\\Users\\Kondo Marcel\\Documents\\POLI\\TCC\\uspolis-server\\src\\common\\allocation.py:109\u001b[0m, in \u001b[0;36mallocate_classrooms\u001b[1;34m(classroom_list, class_list)\u001b[0m\n\u001b[0;32m    107\u001b[0m \u001b[39mfor\u001b[39;00m s \u001b[39min\u001b[39;00m S:\n\u001b[0;32m    108\u001b[0m     \u001b[39mfor\u001b[39;00m a \u001b[39min\u001b[39;00m A:\n\u001b[1;32m--> 109\u001b[0m         prob \u001b[39m+\u001b[39m\u001b[39m=\u001b[39m (\n\u001b[0;32m    110\u001b[0m             x[s][a] \u001b[39m<\u001b[39m\u001b[39m=\u001b[39m eta[s][a],\n\u001b[0;32m    111\u001b[0m             \u001b[39mf\u001b[39m\u001b[39m'\u001b[39m\u001b[39mClassroom_\u001b[39m\u001b[39m{\u001b[39;00ms\u001b[39m}\u001b[39;00m\u001b[39m_can_contain_class\u001b[39m\u001b[39m{\u001b[39;00ma\u001b[39m}\u001b[39;00m\u001b[39m'\u001b[39m\n\u001b[0;32m    112\u001b[0m         )\n\u001b[0;32m    114\u001b[0m \u001b[39m# Time conflict constraint\u001b[39;00m\n\u001b[0;32m    115\u001b[0m \u001b[39mfor\u001b[39;00m s \u001b[39min\u001b[39;00m S:\n",
      "File \u001b[1;32m~\\Anaconda3\\lib\\site-packages\\pulp\\pulp.py:1701\u001b[0m, in \u001b[0;36mLpProblem.__iadd__\u001b[1;34m(self, other)\u001b[0m\n\u001b[0;32m   1699\u001b[0m     \u001b[39mself\u001b[39m\u001b[39m.\u001b[39maddConstraint(other\u001b[39m.\u001b[39mconstraint)\n\u001b[0;32m   1700\u001b[0m \u001b[39melif\u001b[39;00m \u001b[39misinstance\u001b[39m(other, LpConstraint):\n\u001b[1;32m-> 1701\u001b[0m     \u001b[39mself\u001b[39;49m\u001b[39m.\u001b[39;49maddConstraint(other, name)\n\u001b[0;32m   1702\u001b[0m \u001b[39melif\u001b[39;00m \u001b[39misinstance\u001b[39m(other, LpAffineExpression):\n\u001b[0;32m   1703\u001b[0m     \u001b[39mif\u001b[39;00m \u001b[39mself\u001b[39m\u001b[39m.\u001b[39mobjective \u001b[39mis\u001b[39;00m \u001b[39mnot\u001b[39;00m \u001b[39mNone\u001b[39;00m:\n",
      "File \u001b[1;32m~\\Anaconda3\\lib\\site-packages\\pulp\\pulp.py:1661\u001b[0m, in \u001b[0;36mLpProblem.addConstraint\u001b[1;34m(self, constraint, name)\u001b[0m\n\u001b[0;32m   1659\u001b[0m \u001b[39mif\u001b[39;00m name \u001b[39min\u001b[39;00m \u001b[39mself\u001b[39m\u001b[39m.\u001b[39mconstraints:\n\u001b[0;32m   1660\u001b[0m     \u001b[39mif\u001b[39;00m \u001b[39mself\u001b[39m\u001b[39m.\u001b[39mnoOverlap:\n\u001b[1;32m-> 1661\u001b[0m         \u001b[39mraise\u001b[39;00m const\u001b[39m.\u001b[39mPulpError(\u001b[39m\"\u001b[39m\u001b[39moverlapping constraint names: \u001b[39m\u001b[39m\"\u001b[39m \u001b[39m+\u001b[39m name)\n\u001b[0;32m   1662\u001b[0m     \u001b[39melse\u001b[39;00m:\n\u001b[0;32m   1663\u001b[0m         \u001b[39mprint\u001b[39m(\u001b[39m\"\u001b[39m\u001b[39mWarning: overlapping constraint names:\u001b[39m\u001b[39m\"\u001b[39m, name)\n",
      "\u001b[1;31mPulpError\u001b[0m: overlapping constraint names: Classroom_A1_06_can_contain_class4323102_2022201_0"
     ]
    }
   ],
   "source": [
    "classroom_list = pd.read_csv('classroom_info.csv').query(\"building == 'Biênio'\").to_dict(orient='records')\n",
    "\n",
    "subjects = [\n",
    "    '4323102',\n",
    "    'MAT2454',\n",
    "    'MAT3458',\n",
    "    'PME3100',\n",
    "]\n",
    "\n",
    "event_list = []\n",
    "\n",
    "for s in subjects:\n",
    "    # print(s)\n",
    "    classes = get_jupiter_class_infos(s)\n",
    "    for c in classes:\n",
    "        event_list += break_class_into_events(process_class_data(c))\n",
    "\n",
    "event_list\n",
    "\n",
    "sol = allocate_classrooms(classroom_list, event_list)"
   ]
  },
  {
   "cell_type": "code",
   "execution_count": null,
   "metadata": {},
   "outputs": [],
   "source": []
  }
 ],
 "metadata": {
  "kernelspec": {
   "display_name": "Python ('uspolis-allocation')",
   "language": "python",
   "name": "python3"
  },
  "language_info": {
   "codemirror_mode": {
    "name": "ipython",
    "version": 3
   },
   "file_extension": ".py",
   "mimetype": "text/x-python",
   "name": "python",
   "nbconvert_exporter": "python",
   "pygments_lexer": "ipython3",
   "version": ""
  },
  "orig_nbformat": 4,
  "vscode": {
   "interpreter": {
    "hash": "25a19fbe0a9132dfb9279d48d161753c6352f8f9478c2e74383d340069b907c3"
   }
  }
 },
 "nbformat": 4,
 "nbformat_minor": 2
}
